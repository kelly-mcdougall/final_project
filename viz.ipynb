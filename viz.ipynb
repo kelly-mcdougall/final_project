{
 "cells": [
  {
   "cell_type": "code",
   "execution_count": 6,
   "metadata": {},
   "outputs": [],
   "source": [
    "from pyvis.network import Network\n",
    "import pandas as pd\n",
    "\n",
    "got_net = Network(height=\"750px\", width=\"100%\", bgcolor=\"#222222\", font_color=\"white\")\n",
    "\n",
    "# set the physics layout of the network\n",
    "# got_net.barnes_hut()\n",
    "edge_data = pd.read_csv(\"HarvardCSCIE90_final_project_data - edges_rev (3).csv\")\n",
    "node_data = pd.read_csv(\"HarvardCSCIE90_final_project_data - nodes_rev (4).csv\")\n",
    "\n",
    "\n",
    "sources = edge_data['~from']\n",
    "targets = edge_data['~to']\n",
    "weights = edge_data['strength']\n",
    "\n",
    "\n",
    "edge_data = zip(sources, targets, weights)\n",
    "\n",
    "for e in edge_data:\n",
    "    src = e[0]\n",
    "    dst = e[1]\n",
    "    w = e[2]\n",
    "\n",
    "    got_net.add_node(src, src, title=src)\n",
    "    got_net.add_node(dst, dst, title=dst)\n",
    "    got_net.add_edge(src, dst, value=w)\n",
    "\n",
    "neighbor_map = got_net.get_adj_list()\n",
    "\n",
    "# add neighbor data to node hover data\n",
    "for node in got_net.nodes:\n",
    "    title_row = node_data.loc[node_data['~id'] == '10.1016/j.cosrev.2017.10.002']\n",
    "    title_val = title_row[\"~id\"]\n",
    "    row_doi = get_id(node[\"id\"])\n",
    "    node[\"title\"] = row_doi\n",
    "    node[\"value\"] = len(neighbor_map[node[\"id\"]])\n",
    "    node_color = get_color(node[\"id\"])\n",
    "    if node_color == 'Economics':\n",
    "        node[\"color\"] =  \"#2D3D80\"\n",
    "    if node_color == 'Humanities':\n",
    "        node[\"color\"] =  \"#738FFF\"\n",
    "    if node_color == 'Health Science':\n",
    "        node[\"color\"] =  \"#B38B1B\"\n",
    "got_net.show(\"data_viz.html\")"
   ]
  },
  {
   "cell_type": "code",
   "execution_count": 4,
   "metadata": {},
   "outputs": [],
   "source": [
    "def get_id(doi):\n",
    "    row = node_data.loc[node_data['~id'] == doi]\n",
    "    y = row['~id']\n",
    "    idx = row['~id'].index[0]\n",
    "    return y[idx]"
   ]
  },
  {
   "cell_type": "code",
   "execution_count": 5,
   "metadata": {
    "scrolled": true
   },
   "outputs": [],
   "source": [
    "def get_color(doi):\n",
    "    row = node_data.loc[node_data['~id'] == doi]\n",
    "    y = row['topic']\n",
    "    idx = row['~id'].index[0]\n",
    "    return y[idx]"
   ]
  },
  {
   "cell_type": "code",
   "execution_count": null,
   "metadata": {},
   "outputs": [],
   "source": []
  },
  {
   "cell_type": "code",
   "execution_count": null,
   "metadata": {},
   "outputs": [],
   "source": []
  }
 ],
 "metadata": {
  "kernelspec": {
   "display_name": "Python 3",
   "language": "python",
   "name": "python3"
  },
  "language_info": {
   "codemirror_mode": {
    "name": "ipython",
    "version": 3
   },
   "file_extension": ".py",
   "mimetype": "text/x-python",
   "name": "python",
   "nbconvert_exporter": "python",
   "pygments_lexer": "ipython3",
   "version": "3.7.5"
  }
 },
 "nbformat": 4,
 "nbformat_minor": 4
}
